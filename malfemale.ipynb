{
 "cells": [
  {
   "cell_type": "code",
   "execution_count": 14,
   "metadata": {},
   "outputs": [],
   "source": [
    "#importing numpy pandas mathplotand other methods\n",
    "import pandas as pd\n",
    "\n",
    "import numpy as np\n",
    "import matplotlib.pyplot as plt\n",
    "%matplotlib inline\n",
    "import seaborn as sns\n",
    "import warnings\n",
    "warnings.filterwarnings(\"ignore\")\n",
    "pd.set_option('display.max_columns', 5000)\n",
    "\n",
    "\n",
    "df= pd.read_csv('malefemale.csv')\n",
    "\n"
   ]
  },
  {
   "cell_type": "code",
   "execution_count": 10,
   "metadata": {},
   "outputs": [
    {
     "data": {
      "image/png": "[encoded data removed]",
      "text/plain": [
       "<Figure size 432x288 with 1 Axes>"
      ]
     },
     "metadata": {
      "needs_background": "light"
     },
     "output_type": "display_data"
    }
   ],
   "source": [
    "df=df.groupby(['spt','sex']).size()\n",
    "df=df.unstack()\n",
    "df.plot(kind='bar')\n",
    "\n",
    "plt.title('Sex Wise Spt count')\n",
    "plt.savefig('Sex Wise Spt count')\n"
   ]
  },
  {
   "cell_type": "code",
   "execution_count": 11,
   "metadata": {},
   "outputs": [],
   "source": [
    "from numpy import sqrt, arange\n",
    "from scipy import stats"
   ]
  },
  {
   "cell_type": "code",
   "execution_count": 15,
   "metadata": {},
   "outputs": [
    {
     "data": {
      "text/plain": [
       "170"
      ]
     },
     "execution_count": 15,
     "metadata": {},
     "output_type": "execute_result"
    }
   ],
   "source": [
    "df= pd.read_csv('malefemale.csv')\n",
    "\n",
    "\n",
    "sample_size = df.shape[0]\n",
    "sample_size"
   ]
  },
  {
   "cell_type": "code",
   "execution_count": 16,
   "metadata": {},
   "outputs": [
    {
     "data": {
      "text/html": [
       "<div>\n",
       "<style scoped>\n",
       "    .dataframe tbody tr th:only-of-type {\n",
       "        vertical-align: middle;\n",
       "    }\n",
       "\n",
       "    .dataframe tbody tr th {\n",
       "        vertical-align: top;\n",
       "    }\n",
       "\n",
       "    .dataframe thead th {\n",
       "        text-align: right;\n",
       "    }\n",
       "</style>\n",
       "<table border=\"1\" class=\"dataframe\">\n",
       "  <thead>\n",
       "    <tr style=\"text-align: right;\">\n",
       "      <th></th>\n",
       "      <th>age</th>\n",
       "      <th>sex</th>\n",
       "      <th>spt</th>\n",
       "      <th>fam_his_all</th>\n",
       "      <th>smoking</th>\n",
       "      <th>pet_ownership</th>\n",
       "      <th>grass_poll</th>\n",
       "      <th>Alternaria</th>\n",
       "      <th>birch</th>\n",
       "      <th>hazel</th>\n",
       "      <th>mugwort</th>\n",
       "      <th>ragweed</th>\n",
       "      <th>D.pter</th>\n",
       "      <th>D.far</th>\n",
       "      <th>dog</th>\n",
       "      <th>cat</th>\n",
       "      <th>horse</th>\n",
       "      <th>barley</th>\n",
       "      <th>blomia</th>\n",
       "      <th>lepidoglyphus</th>\n",
       "      <th>cowbuffdander</th>\n",
       "      <th>platane</th>\n",
       "      <th>tree</th>\n",
       "      <th>acarus</th>\n",
       "      <th>thyrophagus</th>\n",
       "      <th>rat</th>\n",
       "      <th>aspergillus</th>\n",
       "    </tr>\n",
       "  </thead>\n",
       "  <tbody>\n",
       "    <tr>\n",
       "      <td>0</td>\n",
       "      <td>66</td>\n",
       "      <td>Male</td>\n",
       "      <td>1</td>\n",
       "      <td>0</td>\n",
       "      <td>1</td>\n",
       "      <td>0</td>\n",
       "      <td>1</td>\n",
       "      <td>0</td>\n",
       "      <td>0</td>\n",
       "      <td>0</td>\n",
       "      <td>0</td>\n",
       "      <td>0</td>\n",
       "      <td>1</td>\n",
       "      <td>1</td>\n",
       "      <td>0</td>\n",
       "      <td>0</td>\n",
       "      <td>0</td>\n",
       "      <td>0</td>\n",
       "      <td>0</td>\n",
       "      <td>1</td>\n",
       "      <td>0</td>\n",
       "      <td>0</td>\n",
       "      <td>0</td>\n",
       "      <td>0</td>\n",
       "      <td>0</td>\n",
       "      <td>0</td>\n",
       "      <td>0</td>\n",
       "    </tr>\n",
       "    <tr>\n",
       "      <td>1</td>\n",
       "      <td>27</td>\n",
       "      <td>Female</td>\n",
       "      <td>0</td>\n",
       "      <td>0</td>\n",
       "      <td>1</td>\n",
       "      <td>0</td>\n",
       "      <td>0</td>\n",
       "      <td>0</td>\n",
       "      <td>0</td>\n",
       "      <td>0</td>\n",
       "      <td>0</td>\n",
       "      <td>0</td>\n",
       "      <td>0</td>\n",
       "      <td>0</td>\n",
       "      <td>0</td>\n",
       "      <td>0</td>\n",
       "      <td>0</td>\n",
       "      <td>0</td>\n",
       "      <td>0</td>\n",
       "      <td>0</td>\n",
       "      <td>0</td>\n",
       "      <td>0</td>\n",
       "      <td>0</td>\n",
       "      <td>0</td>\n",
       "      <td>0</td>\n",
       "      <td>0</td>\n",
       "      <td>0</td>\n",
       "    </tr>\n",
       "    <tr>\n",
       "      <td>2</td>\n",
       "      <td>26</td>\n",
       "      <td>Female</td>\n",
       "      <td>0</td>\n",
       "      <td>1</td>\n",
       "      <td>0</td>\n",
       "      <td>0</td>\n",
       "      <td>0</td>\n",
       "      <td>0</td>\n",
       "      <td>0</td>\n",
       "      <td>0</td>\n",
       "      <td>0</td>\n",
       "      <td>0</td>\n",
       "      <td>0</td>\n",
       "      <td>0</td>\n",
       "      <td>0</td>\n",
       "      <td>0</td>\n",
       "      <td>0</td>\n",
       "      <td>0</td>\n",
       "      <td>0</td>\n",
       "      <td>0</td>\n",
       "      <td>0</td>\n",
       "      <td>0</td>\n",
       "      <td>0</td>\n",
       "      <td>0</td>\n",
       "      <td>0</td>\n",
       "      <td>0</td>\n",
       "      <td>0</td>\n",
       "    </tr>\n",
       "    <tr>\n",
       "      <td>3</td>\n",
       "      <td>20</td>\n",
       "      <td>Female</td>\n",
       "      <td>1</td>\n",
       "      <td>1</td>\n",
       "      <td>0</td>\n",
       "      <td>0</td>\n",
       "      <td>0</td>\n",
       "      <td>0</td>\n",
       "      <td>0</td>\n",
       "      <td>0</td>\n",
       "      <td>0</td>\n",
       "      <td>0</td>\n",
       "      <td>1</td>\n",
       "      <td>1</td>\n",
       "      <td>0</td>\n",
       "      <td>0</td>\n",
       "      <td>0</td>\n",
       "      <td>0</td>\n",
       "      <td>0</td>\n",
       "      <td>1</td>\n",
       "      <td>0</td>\n",
       "      <td>0</td>\n",
       "      <td>0</td>\n",
       "      <td>0</td>\n",
       "      <td>1</td>\n",
       "      <td>0</td>\n",
       "      <td>0</td>\n",
       "    </tr>\n",
       "    <tr>\n",
       "      <td>4</td>\n",
       "      <td>26</td>\n",
       "      <td>Male</td>\n",
       "      <td>1</td>\n",
       "      <td>1</td>\n",
       "      <td>1</td>\n",
       "      <td>1</td>\n",
       "      <td>1</td>\n",
       "      <td>0</td>\n",
       "      <td>0</td>\n",
       "      <td>0</td>\n",
       "      <td>1</td>\n",
       "      <td>1</td>\n",
       "      <td>0</td>\n",
       "      <td>0</td>\n",
       "      <td>0</td>\n",
       "      <td>1</td>\n",
       "      <td>0</td>\n",
       "      <td>1</td>\n",
       "      <td>0</td>\n",
       "      <td>0</td>\n",
       "      <td>0</td>\n",
       "      <td>0</td>\n",
       "      <td>0</td>\n",
       "      <td>0</td>\n",
       "      <td>1</td>\n",
       "      <td>0</td>\n",
       "      <td>0</td>\n",
       "    </tr>\n",
       "  </tbody>\n",
       "</table>\n",
       "</div>"
      ],
      "text/plain": [
       "   age     sex  spt  fam_his_all  smoking  pet_ownership  grass_poll  \\\n",
       "0   66    Male    1            0        1              0           1   \n",
       "1   27  Female    0            0        1              0           0   \n",
       "2   26  Female    0            1        0              0           0   \n",
       "3   20  Female    1            1        0              0           0   \n",
       "4   26    Male    1            1        1              1           1   \n",
       "\n",
       "   Alternaria  birch  hazel  mugwort  ragweed  D.pter  D.far  dog  cat  horse  \\\n",
       "0           0      0      0        0        0       1      1    0    0      0   \n",
       "1           0      0      0        0        0       0      0    0    0      0   \n",
       "2           0      0      0        0        0       0      0    0    0      0   \n",
       "3           0      0      0        0        0       1      1    0    0      0   \n",
       "4           0      0      0        1        1       0      0    0    1      0   \n",
       "\n",
       "   barley  blomia  lepidoglyphus  cowbuffdander  platane  tree  acarus  \\\n",
       "0       0       0              1              0        0     0       0   \n",
       "1       0       0              0              0        0     0       0   \n",
       "2       0       0              0              0        0     0       0   \n",
       "3       0       0              1              0        0     0       0   \n",
       "4       1       0              0              0        0     0       0   \n",
       "\n",
       "   thyrophagus  rat  aspergillus  \n",
       "0            0    0            0  \n",
       "1            0    0            0  \n",
       "2            0    0            0  \n",
       "3            1    0            0  \n",
       "4            1    0            0  "
      ]
     },
     "execution_count": 16,
     "metadata": {},
     "output_type": "execute_result"
    }
   ],
   "source": [
    "df.head()"
   ]
  },
  {
   "cell_type": "markdown",
   "metadata": {},
   "source": [
    "# confidence intervals of spt having in male and female\n",
    "\n",
    "Because we have a sample size that is much greater than 30, we can use the Central Limit Theorem to calculate confidence intervals. According to this theorem we can calculate a confidence interval for the mean using the normal distribution.\n",
    "To get the confidence interval for the mean we need three numbers:\n",
    "* Sample mean\n",
    "* Standard error\n",
    "* Confidence level\n",
    "Formula for the standard error:\n",
    "\n",
    " \n",
    "\n",
    " <img src=\"centerlimit .png\" style=\"height:10%;width:50%;\" >\n",
    "\n",
    " \n",
    "\n",
    "\n"
   ]
  },
  {
   "cell_type": "code",
   "execution_count": 18,
   "metadata": {},
   "outputs": [
    {
     "data": {
      "text/plain": [
       "0.6764705882352942"
      ]
     },
     "execution_count": 18,
     "metadata": {},
     "output_type": "execute_result"
    }
   ],
   "source": [
    "sample_mean_spt = df['spt'].mean()\n",
    "sample_mean_spt"
   ]
  },
  {
   "cell_type": "code",
   "execution_count": 19,
   "metadata": {},
   "outputs": [
    {
     "data": {
      "text/plain": [
       "0.035986365883680656"
      ]
     },
     "execution_count": 19,
     "metadata": {},
     "output_type": "execute_result"
    }
   ],
   "source": [
    "std_error_spt = df['spt'].std()/sqrt(sample_size)\n",
    "std_error_spt"
   ]
  },
  {
   "cell_type": "code",
   "execution_count": 20,
   "metadata": {},
   "outputs": [
    {
     "data": {
      "text/plain": [
       "(0.6059386071687991, 0.7470025693017892)"
      ]
     },
     "execution_count": 20,
     "metadata": {},
     "output_type": "execute_result"
    }
   ],
   "source": [
    "stats.norm.interval(0.95, loc=sample_mean_spt, scale=std_error_spt)"
   ]
  },
  {
   "cell_type": "markdown",
   "metadata": {},
   "source": [
    "# Let us compare the confidence intervals of spt between girls and boys\n",
    "Female:F 0\n",
    "Male: M 1"
   ]
  },
  {
   "cell_type": "code",
   "execution_count": 22,
   "metadata": {},
   "outputs": [],
   "source": [
    "SF = df.loc[(df.sex == 'Female')]"
   ]
  },
  {
   "cell_type": "code",
   "execution_count": 23,
   "metadata": {},
   "outputs": [
    {
     "data": {
      "text/html": [
       "<div>\n",
       "<style scoped>\n",
       "    .dataframe tbody tr th:only-of-type {\n",
       "        vertical-align: middle;\n",
       "    }\n",
       "\n",
       "    .dataframe tbody tr th {\n",
       "        vertical-align: top;\n",
       "    }\n",
       "\n",
       "    .dataframe thead th {\n",
       "        text-align: right;\n",
       "    }\n",
       "</style>\n",
       "<table border=\"1\" class=\"dataframe\">\n",
       "  <thead>\n",
       "    <tr style=\"text-align: right;\">\n",
       "      <th></th>\n",
       "      <th>age</th>\n",
       "      <th>sex</th>\n",
       "      <th>spt</th>\n",
       "      <th>fam_his_all</th>\n",
       "      <th>smoking</th>\n",
       "      <th>pet_ownership</th>\n",
       "      <th>grass_poll</th>\n",
       "      <th>Alternaria</th>\n",
       "      <th>birch</th>\n",
       "      <th>hazel</th>\n",
       "      <th>mugwort</th>\n",
       "      <th>ragweed</th>\n",
       "      <th>D.pter</th>\n",
       "      <th>D.far</th>\n",
       "      <th>dog</th>\n",
       "      <th>cat</th>\n",
       "      <th>horse</th>\n",
       "      <th>barley</th>\n",
       "      <th>blomia</th>\n",
       "      <th>lepidoglyphus</th>\n",
       "      <th>cowbuffdander</th>\n",
       "      <th>platane</th>\n",
       "      <th>tree</th>\n",
       "      <th>acarus</th>\n",
       "      <th>thyrophagus</th>\n",
       "      <th>rat</th>\n",
       "      <th>aspergillus</th>\n",
       "    </tr>\n",
       "  </thead>\n",
       "  <tbody>\n",
       "    <tr>\n",
       "      <td>1</td>\n",
       "      <td>27</td>\n",
       "      <td>Female</td>\n",
       "      <td>0</td>\n",
       "      <td>0</td>\n",
       "      <td>1</td>\n",
       "      <td>0</td>\n",
       "      <td>0</td>\n",
       "      <td>0</td>\n",
       "      <td>0</td>\n",
       "      <td>0</td>\n",
       "      <td>0</td>\n",
       "      <td>0</td>\n",
       "      <td>0</td>\n",
       "      <td>0</td>\n",
       "      <td>0</td>\n",
       "      <td>0</td>\n",
       "      <td>0</td>\n",
       "      <td>0</td>\n",
       "      <td>0</td>\n",
       "      <td>0</td>\n",
       "      <td>0</td>\n",
       "      <td>0</td>\n",
       "      <td>0</td>\n",
       "      <td>0</td>\n",
       "      <td>0</td>\n",
       "      <td>0</td>\n",
       "      <td>0</td>\n",
       "    </tr>\n",
       "    <tr>\n",
       "      <td>2</td>\n",
       "      <td>26</td>\n",
       "      <td>Female</td>\n",
       "      <td>0</td>\n",
       "      <td>1</td>\n",
       "      <td>0</td>\n",
       "      <td>0</td>\n",
       "      <td>0</td>\n",
       "      <td>0</td>\n",
       "      <td>0</td>\n",
       "      <td>0</td>\n",
       "      <td>0</td>\n",
       "      <td>0</td>\n",
       "      <td>0</td>\n",
       "      <td>0</td>\n",
       "      <td>0</td>\n",
       "      <td>0</td>\n",
       "      <td>0</td>\n",
       "      <td>0</td>\n",
       "      <td>0</td>\n",
       "      <td>0</td>\n",
       "      <td>0</td>\n",
       "      <td>0</td>\n",
       "      <td>0</td>\n",
       "      <td>0</td>\n",
       "      <td>0</td>\n",
       "      <td>0</td>\n",
       "      <td>0</td>\n",
       "    </tr>\n",
       "    <tr>\n",
       "      <td>3</td>\n",
       "      <td>20</td>\n",
       "      <td>Female</td>\n",
       "      <td>1</td>\n",
       "      <td>1</td>\n",
       "      <td>0</td>\n",
       "      <td>0</td>\n",
       "      <td>0</td>\n",
       "      <td>0</td>\n",
       "      <td>0</td>\n",
       "      <td>0</td>\n",
       "      <td>0</td>\n",
       "      <td>0</td>\n",
       "      <td>1</td>\n",
       "      <td>1</td>\n",
       "      <td>0</td>\n",
       "      <td>0</td>\n",
       "      <td>0</td>\n",
       "      <td>0</td>\n",
       "      <td>0</td>\n",
       "      <td>1</td>\n",
       "      <td>0</td>\n",
       "      <td>0</td>\n",
       "      <td>0</td>\n",
       "      <td>0</td>\n",
       "      <td>1</td>\n",
       "      <td>0</td>\n",
       "      <td>0</td>\n",
       "    </tr>\n",
       "    <tr>\n",
       "      <td>5</td>\n",
       "      <td>19</td>\n",
       "      <td>Female</td>\n",
       "      <td>0</td>\n",
       "      <td>0</td>\n",
       "      <td>0</td>\n",
       "      <td>1</td>\n",
       "      <td>0</td>\n",
       "      <td>0</td>\n",
       "      <td>0</td>\n",
       "      <td>0</td>\n",
       "      <td>0</td>\n",
       "      <td>0</td>\n",
       "      <td>0</td>\n",
       "      <td>0</td>\n",
       "      <td>0</td>\n",
       "      <td>0</td>\n",
       "      <td>0</td>\n",
       "      <td>0</td>\n",
       "      <td>0</td>\n",
       "      <td>0</td>\n",
       "      <td>0</td>\n",
       "      <td>0</td>\n",
       "      <td>0</td>\n",
       "      <td>0</td>\n",
       "      <td>0</td>\n",
       "      <td>0</td>\n",
       "      <td>0</td>\n",
       "    </tr>\n",
       "    <tr>\n",
       "      <td>13</td>\n",
       "      <td>58</td>\n",
       "      <td>Female</td>\n",
       "      <td>1</td>\n",
       "      <td>0</td>\n",
       "      <td>0</td>\n",
       "      <td>1</td>\n",
       "      <td>0</td>\n",
       "      <td>0</td>\n",
       "      <td>0</td>\n",
       "      <td>0</td>\n",
       "      <td>0</td>\n",
       "      <td>1</td>\n",
       "      <td>1</td>\n",
       "      <td>1</td>\n",
       "      <td>0</td>\n",
       "      <td>0</td>\n",
       "      <td>0</td>\n",
       "      <td>0</td>\n",
       "      <td>0</td>\n",
       "      <td>1</td>\n",
       "      <td>0</td>\n",
       "      <td>0</td>\n",
       "      <td>0</td>\n",
       "      <td>0</td>\n",
       "      <td>1</td>\n",
       "      <td>0</td>\n",
       "      <td>0</td>\n",
       "    </tr>\n",
       "  </tbody>\n",
       "</table>\n",
       "</div>"
      ],
      "text/plain": [
       "    age     sex  spt  fam_his_all  smoking  pet_ownership  grass_poll  \\\n",
       "1    27  Female    0            0        1              0           0   \n",
       "2    26  Female    0            1        0              0           0   \n",
       "3    20  Female    1            1        0              0           0   \n",
       "5    19  Female    0            0        0              1           0   \n",
       "13   58  Female    1            0        0              1           0   \n",
       "\n",
       "    Alternaria  birch  hazel  mugwort  ragweed  D.pter  D.far  dog  cat  \\\n",
       "1            0      0      0        0        0       0      0    0    0   \n",
       "2            0      0      0        0        0       0      0    0    0   \n",
       "3            0      0      0        0        0       1      1    0    0   \n",
       "5            0      0      0        0        0       0      0    0    0   \n",
       "13           0      0      0        0        1       1      1    0    0   \n",
       "\n",
       "    horse  barley  blomia  lepidoglyphus  cowbuffdander  platane  tree  \\\n",
       "1       0       0       0              0              0        0     0   \n",
       "2       0       0       0              0              0        0     0   \n",
       "3       0       0       0              1              0        0     0   \n",
       "5       0       0       0              0              0        0     0   \n",
       "13      0       0       0              1              0        0     0   \n",
       "\n",
       "    acarus  thyrophagus  rat  aspergillus  \n",
       "1        0            0    0            0  \n",
       "2        0            0    0            0  \n",
       "3        0            1    0            0  \n",
       "5        0            0    0            0  \n",
       "13       0            1    0            0  "
      ]
     },
     "execution_count": 23,
     "metadata": {},
     "output_type": "execute_result"
    }
   ],
   "source": [
    "SF.head()"
   ]
  },
  {
   "cell_type": "code",
   "execution_count": 24,
   "metadata": {},
   "outputs": [],
   "source": [
    "SM = df.loc[(df.sex == 'Male')]"
   ]
  },
  {
   "cell_type": "code",
   "execution_count": 25,
   "metadata": {},
   "outputs": [
    {
     "data": {
      "text/html": [
       "<div>\n",
       "<style scoped>\n",
       "    .dataframe tbody tr th:only-of-type {\n",
       "        vertical-align: middle;\n",
       "    }\n",
       "\n",
       "    .dataframe tbody tr th {\n",
       "        vertical-align: top;\n",
       "    }\n",
       "\n",
       "    .dataframe thead th {\n",
       "        text-align: right;\n",
       "    }\n",
       "</style>\n",
       "<table border=\"1\" class=\"dataframe\">\n",
       "  <thead>\n",
       "    <tr style=\"text-align: right;\">\n",
       "      <th></th>\n",
       "      <th>age</th>\n",
       "      <th>sex</th>\n",
       "      <th>spt</th>\n",
       "      <th>fam_his_all</th>\n",
       "      <th>smoking</th>\n",
       "      <th>pet_ownership</th>\n",
       "      <th>grass_poll</th>\n",
       "      <th>Alternaria</th>\n",
       "      <th>birch</th>\n",
       "      <th>hazel</th>\n",
       "      <th>mugwort</th>\n",
       "      <th>ragweed</th>\n",
       "      <th>D.pter</th>\n",
       "      <th>D.far</th>\n",
       "      <th>dog</th>\n",
       "      <th>cat</th>\n",
       "      <th>horse</th>\n",
       "      <th>barley</th>\n",
       "      <th>blomia</th>\n",
       "      <th>lepidoglyphus</th>\n",
       "      <th>cowbuffdander</th>\n",
       "      <th>platane</th>\n",
       "      <th>tree</th>\n",
       "      <th>acarus</th>\n",
       "      <th>thyrophagus</th>\n",
       "      <th>rat</th>\n",
       "      <th>aspergillus</th>\n",
       "    </tr>\n",
       "  </thead>\n",
       "  <tbody>\n",
       "    <tr>\n",
       "      <td>0</td>\n",
       "      <td>66</td>\n",
       "      <td>Male</td>\n",
       "      <td>1</td>\n",
       "      <td>0</td>\n",
       "      <td>1</td>\n",
       "      <td>0</td>\n",
       "      <td>1</td>\n",
       "      <td>0</td>\n",
       "      <td>0</td>\n",
       "      <td>0</td>\n",
       "      <td>0</td>\n",
       "      <td>0</td>\n",
       "      <td>1</td>\n",
       "      <td>1</td>\n",
       "      <td>0</td>\n",
       "      <td>0</td>\n",
       "      <td>0</td>\n",
       "      <td>0</td>\n",
       "      <td>0</td>\n",
       "      <td>1</td>\n",
       "      <td>0</td>\n",
       "      <td>0</td>\n",
       "      <td>0</td>\n",
       "      <td>0</td>\n",
       "      <td>0</td>\n",
       "      <td>0</td>\n",
       "      <td>0</td>\n",
       "    </tr>\n",
       "    <tr>\n",
       "      <td>4</td>\n",
       "      <td>26</td>\n",
       "      <td>Male</td>\n",
       "      <td>1</td>\n",
       "      <td>1</td>\n",
       "      <td>1</td>\n",
       "      <td>1</td>\n",
       "      <td>1</td>\n",
       "      <td>0</td>\n",
       "      <td>0</td>\n",
       "      <td>0</td>\n",
       "      <td>1</td>\n",
       "      <td>1</td>\n",
       "      <td>0</td>\n",
       "      <td>0</td>\n",
       "      <td>0</td>\n",
       "      <td>1</td>\n",
       "      <td>0</td>\n",
       "      <td>1</td>\n",
       "      <td>0</td>\n",
       "      <td>0</td>\n",
       "      <td>0</td>\n",
       "      <td>0</td>\n",
       "      <td>0</td>\n",
       "      <td>0</td>\n",
       "      <td>1</td>\n",
       "      <td>0</td>\n",
       "      <td>0</td>\n",
       "    </tr>\n",
       "    <tr>\n",
       "      <td>6</td>\n",
       "      <td>53</td>\n",
       "      <td>Male</td>\n",
       "      <td>1</td>\n",
       "      <td>0</td>\n",
       "      <td>0</td>\n",
       "      <td>0</td>\n",
       "      <td>0</td>\n",
       "      <td>0</td>\n",
       "      <td>0</td>\n",
       "      <td>0</td>\n",
       "      <td>0</td>\n",
       "      <td>0</td>\n",
       "      <td>1</td>\n",
       "      <td>1</td>\n",
       "      <td>0</td>\n",
       "      <td>0</td>\n",
       "      <td>0</td>\n",
       "      <td>0</td>\n",
       "      <td>0</td>\n",
       "      <td>0</td>\n",
       "      <td>0</td>\n",
       "      <td>0</td>\n",
       "      <td>0</td>\n",
       "      <td>0</td>\n",
       "      <td>0</td>\n",
       "      <td>0</td>\n",
       "      <td>0</td>\n",
       "    </tr>\n",
       "    <tr>\n",
       "      <td>7</td>\n",
       "      <td>22</td>\n",
       "      <td>Male</td>\n",
       "      <td>1</td>\n",
       "      <td>0</td>\n",
       "      <td>0</td>\n",
       "      <td>0</td>\n",
       "      <td>0</td>\n",
       "      <td>0</td>\n",
       "      <td>0</td>\n",
       "      <td>0</td>\n",
       "      <td>0</td>\n",
       "      <td>0</td>\n",
       "      <td>1</td>\n",
       "      <td>1</td>\n",
       "      <td>0</td>\n",
       "      <td>0</td>\n",
       "      <td>0</td>\n",
       "      <td>1</td>\n",
       "      <td>1</td>\n",
       "      <td>1</td>\n",
       "      <td>0</td>\n",
       "      <td>0</td>\n",
       "      <td>0</td>\n",
       "      <td>1</td>\n",
       "      <td>1</td>\n",
       "      <td>0</td>\n",
       "      <td>0</td>\n",
       "    </tr>\n",
       "    <tr>\n",
       "      <td>8</td>\n",
       "      <td>42</td>\n",
       "      <td>Male</td>\n",
       "      <td>1</td>\n",
       "      <td>1</td>\n",
       "      <td>0</td>\n",
       "      <td>0</td>\n",
       "      <td>0</td>\n",
       "      <td>0</td>\n",
       "      <td>1</td>\n",
       "      <td>0</td>\n",
       "      <td>1</td>\n",
       "      <td>1</td>\n",
       "      <td>1</td>\n",
       "      <td>1</td>\n",
       "      <td>0</td>\n",
       "      <td>0</td>\n",
       "      <td>0</td>\n",
       "      <td>0</td>\n",
       "      <td>0</td>\n",
       "      <td>1</td>\n",
       "      <td>1</td>\n",
       "      <td>1</td>\n",
       "      <td>0</td>\n",
       "      <td>0</td>\n",
       "      <td>0</td>\n",
       "      <td>0</td>\n",
       "      <td>0</td>\n",
       "    </tr>\n",
       "  </tbody>\n",
       "</table>\n",
       "</div>"
      ],
      "text/plain": [
       "   age   sex  spt  fam_his_all  smoking  pet_ownership  grass_poll  \\\n",
       "0   66  Male    1            0        1              0           1   \n",
       "4   26  Male    1            1        1              1           1   \n",
       "6   53  Male    1            0        0              0           0   \n",
       "7   22  Male    1            0        0              0           0   \n",
       "8   42  Male    1            1        0              0           0   \n",
       "\n",
       "   Alternaria  birch  hazel  mugwort  ragweed  D.pter  D.far  dog  cat  horse  \\\n",
       "0           0      0      0        0        0       1      1    0    0      0   \n",
       "4           0      0      0        1        1       0      0    0    1      0   \n",
       "6           0      0      0        0        0       1      1    0    0      0   \n",
       "7           0      0      0        0        0       1      1    0    0      0   \n",
       "8           0      1      0        1        1       1      1    0    0      0   \n",
       "\n",
       "   barley  blomia  lepidoglyphus  cowbuffdander  platane  tree  acarus  \\\n",
       "0       0       0              1              0        0     0       0   \n",
       "4       1       0              0              0        0     0       0   \n",
       "6       0       0              0              0        0     0       0   \n",
       "7       1       1              1              0        0     0       1   \n",
       "8       0       0              1              1        1     0       0   \n",
       "\n",
       "   thyrophagus  rat  aspergillus  \n",
       "0            0    0            0  \n",
       "4            1    0            0  \n",
       "6            0    0            0  \n",
       "7            1    0            0  \n",
       "8            0    0            0  "
      ]
     },
     "execution_count": 25,
     "metadata": {},
     "output_type": "execute_result"
    }
   ],
   "source": [
    "SM.head()"
   ]
  },
  {
   "cell_type": "code",
   "execution_count": 26,
   "metadata": {},
   "outputs": [
    {
     "data": {
      "text/plain": [
       "0.594059405940594"
      ]
     },
     "execution_count": 26,
     "metadata": {},
     "output_type": "execute_result"
    }
   ],
   "source": [
    "sample_mean_spt_F =SF['spt'].mean()\n",
    "sample_mean_spt_F "
   ]
  },
  {
   "cell_type": "code",
   "execution_count": 27,
   "metadata": {},
   "outputs": [
    {
     "data": {
      "text/plain": [
       "0.7971014492753623"
      ]
     },
     "execution_count": 27,
     "metadata": {},
     "output_type": "execute_result"
    }
   ],
   "source": [
    "sample_mean_spt_M =SM['spt'].mean()\n",
    "sample_mean_spt_M "
   ]
  },
  {
   "cell_type": "code",
   "execution_count": 28,
   "metadata": {},
   "outputs": [
    {
     "data": {
      "text/plain": [
       "101"
      ]
     },
     "execution_count": 28,
     "metadata": {},
     "output_type": "execute_result"
    }
   ],
   "source": [
    "sample_size_F = SF.shape[0]\n",
    "sample_size_F "
   ]
  },
  {
   "cell_type": "code",
   "execution_count": 29,
   "metadata": {},
   "outputs": [
    {
     "data": {
      "text/plain": [
       "69"
      ]
     },
     "execution_count": 29,
     "metadata": {},
     "output_type": "execute_result"
    }
   ],
   "source": [
    "sample_size_M = SM.shape[0]\n",
    "sample_size_M"
   ]
  },
  {
   "cell_type": "code",
   "execution_count": 30,
   "metadata": {},
   "outputs": [
    {
     "data": {
      "text/plain": [
       "0.04910731393123663"
      ]
     },
     "execution_count": 30,
     "metadata": {},
     "output_type": "execute_result"
    }
   ],
   "source": [
    "std_error_spt_F = SF['spt'].std()/sqrt(sample_size_F)\n",
    "std_error_spt_F"
   ]
  },
  {
   "cell_type": "code",
   "execution_count": 31,
   "metadata": {},
   "outputs": [
    {
     "data": {
      "text/plain": [
       "0.04876877147472663"
      ]
     },
     "execution_count": 31,
     "metadata": {},
     "output_type": "execute_result"
    }
   ],
   "source": [
    "std_error_spt_M = SM['spt'].std()/sqrt(sample_size_M)\n",
    "std_error_spt_M"
   ]
  },
  {
   "cell_type": "code",
   "execution_count": 32,
   "metadata": {},
   "outputs": [
    {
     "data": {
      "text/plain": [
       "(0.4978108392578682, 0.6903079726233199)"
      ]
     },
     "execution_count": 32,
     "metadata": {},
     "output_type": "execute_result"
    }
   ],
   "source": [
    "# Girls Confidence Interval\n",
    "stats.norm.interval(0.95, loc=sample_mean_spt_F, scale=std_error_spt_F)"
   ]
  },
  {
   "cell_type": "code",
   "execution_count": 33,
   "metadata": {},
   "outputs": [
    {
     "data": {
      "text/plain": [
       "(0.7015164136146338, 0.8926864849360908)"
      ]
     },
     "execution_count": 33,
     "metadata": {},
     "output_type": "execute_result"
    }
   ],
   "source": [
    "# Boys Confidence Interval\n",
    "stats.norm.interval(0.95, loc=sample_mean_spt_M, scale=std_error_spt_M)"
   ]
  },
  {
   "cell_type": "code",
   "execution_count": 34,
   "metadata": {},
   "outputs": [
    {
     "data": {
      "image/png": "[encoded data removed]",
      "text/plain": [
       "<Figure size 432x288 with 1 Axes>"
      ]
     },
     "metadata": {
      "needs_background": "light"
     },
     "output_type": "display_data"
    }
   ],
   "source": [
    "# fig, axes = plt.subplots(1,2, figsize = (14,4))\n",
    "#sns.boxplot(x='sex', y='spt', data=df, ax=axes[0])\n",
    "sns.pointplot(x='sex', y='spt', data=df)\n",
    "plt.title('Confidence intervals of SPT between  Male and Female')\n",
    "plt.savefig('Confidence intervals of SPT between  Male and Female.png')\n",
    "\n",
    "\n",
    "\n"
   ]
  },
  {
   "cell_type": "code",
   "execution_count": 35,
   "metadata": {},
   "outputs": [
    {
     "data": {
      "text/plain": [
       "KurtosistestResult(statistic=-20.927620614817304, pvalue=3.001073701247349e-97)"
      ]
     },
     "execution_count": 35,
     "metadata": {},
     "output_type": "execute_result"
    }
   ],
   "source": [
    "#Let's perform the Normality test whose Null Hypothesis is that the data is sampled from a Normal distribution.\n",
    "#We will use a significance level of 5.0%\n",
    "\n",
    "#Tests whether a dataset has normal kurtosis\n",
    "stats.kurtosistest(a=df['spt'])"
   ]
  },
  {
   "cell_type": "code",
   "execution_count": 36,
   "metadata": {},
   "outputs": [],
   "source": [
    "#3.2  Correlation test \n",
    "#Let's perform the Correlation test whose Null Hypothesis is that the correlation \n",
    "#coefficient is equal to zero. We will use a significance level of 5.0%\n",
    "#stats.pearsonr(df['spt'],df['sex'])"
   ]
  },
  {
   "cell_type": "markdown",
   "metadata": {},
   "source": [
    " Test of Equal variances \n",
    "    \n",
    "    Let's perform the Bartetts's test whose Null Hypothesis is that the variances are equal. We will use a significance level of 5.0%"
   ]
  },
  {
   "cell_type": "code",
   "execution_count": 39,
   "metadata": {},
   "outputs": [
    {
     "data": {
      "text/plain": [
       "sex\n",
       "Female    0.243564\n",
       "Male      0.164109\n",
       "Name: spt, dtype: float64"
      ]
     },
     "execution_count": 39,
     "metadata": {},
     "output_type": "execute_result"
    }
   ],
   "source": [
    "df.groupby('sex')['spt'].var()"
   ]
  },
  {
   "cell_type": "code",
   "execution_count": 40,
   "metadata": {},
   "outputs": [
    {
     "data": {
      "text/plain": [
       "BartlettResult(statistic=3.040178229720048, pvalue=0.08122699841648971)"
      ]
     },
     "execution_count": 40,
     "metadata": {},
     "output_type": "execute_result"
    }
   ],
   "source": [
    "spt_girls = df['spt'][df['sex']=='Female']\n",
    "spt_boys = df['spt'][df['sex']=='Male']\n",
    "stats.bartlett(spt_girls, spt_boys)"
   ]
  },
  {
   "cell_type": "markdown",
   "metadata": {},
   "source": [
    "According to the test we cannot reject the Null hypothesis of equal variances, so we will use assume that the two groups are samples from a population with the same variances. This information will be useful in our next test. Let's make again a graph showing the confidence intervals of the mean of the spt between Boys and Girls"
   ]
  },
  {
   "cell_type": "code",
   "execution_count": 41,
   "metadata": {},
   "outputs": [
    {
     "data": {
      "image/png": "[encoded data removed]",
      "text/plain": [
       "<Figure size 1008x288 with 2 Axes>"
      ]
     },
     "metadata": {
      "needs_background": "light"
     },
     "output_type": "display_data"
    }
   ],
   "source": [
    "fig, axes = plt.subplots(1,2, figsize = (14,4))\n",
    "sns.boxplot(x='sex', y='spt', data=df, ax=axes[0])\n",
    "sns.pointplot(x='sex', y='spt', data=df, ax=axes[1]);"
   ]
  },
  {
   "cell_type": "markdown",
   "metadata": {},
   "source": [
    "3.4  Comparing means \n",
    "\n",
    "he visualizations suggest there is a difference between the means of the final grade of the two groups. Now we will perform a formal statistical test to confirm the hypothesis that girls have higher final scores than the boys.\n",
    "\n",
    "\n",
    "### The exact form of the null hypothesis varies from one type test to another: if you are testing whether groups differ, the null hypothesis states that the groups are the same.\n",
    "\n",
    "Null Hypothesis: for both groups (Boys and Girls) the population means of the  spt  are equal.\n",
    "\n",
    "Alternative Hypothesis: The population means of the  spt are different.\n",
    "\n",
    "\n",
    "### common test to apply in for these cases is the two-sample t-test, which is used to determine if two population means are equal.\n",
    "\n",
    "\n",
    "The assumptions of this test are:\n",
    "\n",
    "* Independent samples: we will assume that the method for collecting the data assured that the answers given by the students are independent.\n",
    "\n",
    "* Large enough sample size or observations come from a normally-distributed population: this assumption is required if we are working with small samples (less than 30), since in the smaller group we have 166 observations we can say that we have a \"large enough\" sample.\n",
    "* Variances are equal\n",
    "\n",
    "In addition this test have two versions: one assuming equal variances and the other assuming unequal variances."
   ]
  },
  {
   "cell_type": "markdown",
   "metadata": {},
   "source": [
    "one sample t-test is a statistical procedure where you wanted to test that where your population mean is different than a constant value(fix number). For example, a school wants to test that average mean of GPA for grad students is 3.0. They will use one sample t-test and can get the result.\n",
    "\n",
    "Two sample t-test is also a statistical procedure where you are interested in testing whether these two population has the same mean or different mean. In the same example if the school is interested in testing that average GPA for science major and arts major is the same. Then they would have used two-sample t-test."
   ]
  },
  {
   "cell_type": "code",
   "execution_count": 44,
   "metadata": {},
   "outputs": [
    {
     "data": {
      "text/plain": [
       "Ttest_indResult(statistic=-2.8274194743373493, pvalue=0.005262923045183111)"
      ]
     },
     "execution_count": 44,
     "metadata": {},
     "output_type": "execute_result"
    }
   ],
   "source": [
    "stats.ttest_ind(spt_girls, spt_boys, equal_var=True)"
   ]
  },
  {
   "cell_type": "markdown",
   "metadata": {},
   "source": [
    "Since we got such a low p-value we can reject the Null hypothesis of equal means for the two groups at a level of significance of 5%.\n",
    "\n",
    "This test statistic tells us how much the sample mean deviates from the null hypothesis.\n",
    "\n",
    "There is then a statistical significant difference between the spt in the two analyzed groups. The results suggest that the girls have higher spt than boys."
   ]
  },
  {
   "cell_type": "code",
   "execution_count": null,
   "metadata": {},
   "outputs": [],
   "source": []
  }
 ],
 "metadata": {
  "kernelspec": {
   "display_name": "Python 3",
   "language": "python",
   "name": "python3"
  },
  "language_info": {
   "codemirror_mode": {
    "name": "ipython",
    "version": 3
   },
   "file_extension": ".py",
   "mimetype": "text/x-python",
   "name": "python",
   "nbconvert_exporter": "python",
   "pygments_lexer": "ipython3",
   "version": "3.7.3"
  }
 },
 "nbformat": 4,
 "nbformat_minor": 2
}
